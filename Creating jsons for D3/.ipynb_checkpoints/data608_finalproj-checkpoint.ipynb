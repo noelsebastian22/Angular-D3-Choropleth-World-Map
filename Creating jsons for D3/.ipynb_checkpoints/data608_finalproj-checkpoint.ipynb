{
 "cells": [
  {
   "cell_type": "markdown",
   "metadata": {},
   "source": [
    "### Importing libraries"
   ]
  },
  {
   "cell_type": "code",
   "execution_count": 1,
   "metadata": {},
   "outputs": [],
   "source": [
    "import pandas as pd\n",
    "import numpy as np\n",
    "from pprint import pprint\n",
    "import geojson\n",
    "import json\n",
    "pd.set_option('display.min_rows', 1000)"
   ]
  },
  {
   "cell_type": "markdown",
   "metadata": {},
   "source": [
    "##### Loading the geojson file into jupyter"
   ]
  },
  {
   "cell_type": "markdown",
   "metadata": {},
   "source": [
    "Before manipulating our temperature data, I thought it would be a good first step to download the geojson file that will be used to display the country polygons on the web page. Given the initial geojson does not contain the temperature values we'll need for our chloropleth map, these will need to be inserted manually using python. First, I downloaded the geojson file from: https://gist.github.com/phil-pedruco/10447085#file-countries-geo-json using the following code:"
   ]
  },
  {
   "cell_type": "code",
   "execution_count": 2,
   "metadata": {},
   "outputs": [],
   "source": [
    "with open('countries.geo.json') as f:\n",
    "    gj = geojson.load(f)\n",
    "features = gj['features']"
   ]
  },
  {
   "cell_type": "markdown",
   "metadata": {},
   "source": [
    "##### Read in the Excel file\n",
    "Next, we can download the temperature predictions from the Kaggle World Bank repository: https://www.kaggle.com/theworldbank/world-bank-climate-change-data. We can use pandas to read in the projections and rename a few columns to make it easier for data manipulation:"
   ]
  },
  {
   "cell_type": "code",
   "execution_count": 3,
   "metadata": {},
   "outputs": [],
   "source": [
    "climate = pd.read_excel('climate_change_projections.xlsx')\n",
    "climate = climate.rename(columns= {\"ISO_3DIGIT\": \"Country\", \"Value\": \"Change_c\", \"Timeperiod_Variable_month_scenario_ensemble\": \"Timeperiod\"})"
   ]
  },
  {
   "cell_type": "markdown",
   "metadata": {},
   "source": [
    "### Tidying the projection data\n",
    "With our projection data successfully read into our jupyter notebook, we can now do some tidying. The end goal is to create final json files that will include the temperature projections for each country, split out by time period and scenario. First, we'll use `groupby` to group our projections for each country, still split out by different time periods, percentiles, and scenarios."
   ]
  },
  {
   "cell_type": "code",
   "execution_count": 73,
   "metadata": {},
   "outputs": [],
   "source": [
    "climate_grp = climate.groupby(['Timeperiod', 'Country']).sum()['Change_c'].reset_index().sort_values(['Timeperiod', 'Change_c'])"
   ]
  },
  {
   "cell_type": "code",
   "execution_count": 75,
   "metadata": {},
   "outputs": [
    {
     "data": {
      "text/html": [
       "<div>\n",
       "<style scoped>\n",
       "    .dataframe tbody tr th:only-of-type {\n",
       "        vertical-align: middle;\n",
       "    }\n",
       "\n",
       "    .dataframe tbody tr th {\n",
       "        vertical-align: top;\n",
       "    }\n",
       "\n",
       "    .dataframe thead th {\n",
       "        text-align: right;\n",
       "    }\n",
       "</style>\n",
       "<table border=\"1\" class=\"dataframe\">\n",
       "  <thead>\n",
       "    <tr style=\"text-align: right;\">\n",
       "      <th></th>\n",
       "      <th>Timeperiod</th>\n",
       "      <th>Country</th>\n",
       "      <th>Change_c</th>\n",
       "    </tr>\n",
       "  </thead>\n",
       "  <tbody>\n",
       "    <tr>\n",
       "      <th>115</th>\n",
       "      <td>2020-2040_tas_01__a2_10th</td>\n",
       "      <td>LAO</td>\n",
       "      <td>-0.171904</td>\n",
       "    </tr>\n",
       "    <tr>\n",
       "      <th>84</th>\n",
       "      <td>2020-2040_tas_01__a2_10th</td>\n",
       "      <td>GRL</td>\n",
       "      <td>-0.091518</td>\n",
       "    </tr>\n",
       "    <tr>\n",
       "      <th>39</th>\n",
       "      <td>2020-2040_tas_01__a2_10th</td>\n",
       "      <td>CIV</td>\n",
       "      <td>-0.080205</td>\n",
       "    </tr>\n",
       "    <tr>\n",
       "      <th>225</th>\n",
       "      <td>2020-2040_tas_01__a2_10th</td>\n",
       "      <td>VNM</td>\n",
       "      <td>-0.072714</td>\n",
       "    </tr>\n",
       "    <tr>\n",
       "      <th>75</th>\n",
       "      <td>2020-2040_tas_01__a2_10th</td>\n",
       "      <td>GHA</td>\n",
       "      <td>-0.065681</td>\n",
       "    </tr>\n",
       "  </tbody>\n",
       "</table>\n",
       "</div>"
      ],
      "text/plain": [
       "                    Timeperiod Country  Change_c\n",
       "115  2020-2040_tas_01__a2_10th     LAO -0.171904\n",
       "84   2020-2040_tas_01__a2_10th     GRL -0.091518\n",
       "39   2020-2040_tas_01__a2_10th     CIV -0.080205\n",
       "225  2020-2040_tas_01__a2_10th     VNM -0.072714\n",
       "75   2020-2040_tas_01__a2_10th     GHA -0.065681"
      ]
     },
     "execution_count": 75,
     "metadata": {},
     "output_type": "execute_result"
    }
   ],
   "source": [
    "climate_grp.head(5)"
   ]
  },
  {
   "cell_type": "markdown",
   "metadata": {},
   "source": [
    "As we can see above, we are able to get the projected change in degrees C for every country, time period, and scenario, however, the `Timeperiod` column has all of these factors grouped into one variable. In order for us to split this data further, we'll have to split up this `Timeperiod` value into different columns. We can do this with the following syntax below:"
   ]
  },
  {
   "cell_type": "code",
   "execution_count": 76,
   "metadata": {},
   "outputs": [],
   "source": [
    "climate_grp[['Date_range', 'Model', 'Month', 'Blank', 'Type', 'Pctile']] = climate_grp['Timeperiod'].str.split('_',expand=True)"
   ]
  },
  {
   "cell_type": "code",
   "execution_count": 77,
   "metadata": {},
   "outputs": [
    {
     "data": {
      "text/html": [
       "<div>\n",
       "<style scoped>\n",
       "    .dataframe tbody tr th:only-of-type {\n",
       "        vertical-align: middle;\n",
       "    }\n",
       "\n",
       "    .dataframe tbody tr th {\n",
       "        vertical-align: top;\n",
       "    }\n",
       "\n",
       "    .dataframe thead th {\n",
       "        text-align: right;\n",
       "    }\n",
       "</style>\n",
       "<table border=\"1\" class=\"dataframe\">\n",
       "  <thead>\n",
       "    <tr style=\"text-align: right;\">\n",
       "      <th></th>\n",
       "      <th>Timeperiod</th>\n",
       "      <th>Country</th>\n",
       "      <th>Change_c</th>\n",
       "      <th>Date_range</th>\n",
       "      <th>Model</th>\n",
       "      <th>Month</th>\n",
       "      <th>Blank</th>\n",
       "      <th>Type</th>\n",
       "      <th>Pctile</th>\n",
       "    </tr>\n",
       "  </thead>\n",
       "  <tbody>\n",
       "    <tr>\n",
       "      <th>115</th>\n",
       "      <td>2020-2040_tas_01__a2_10th</td>\n",
       "      <td>LAO</td>\n",
       "      <td>-0.171904</td>\n",
       "      <td>2020-2040</td>\n",
       "      <td>tas</td>\n",
       "      <td>01</td>\n",
       "      <td></td>\n",
       "      <td>a2</td>\n",
       "      <td>10th</td>\n",
       "    </tr>\n",
       "    <tr>\n",
       "      <th>84</th>\n",
       "      <td>2020-2040_tas_01__a2_10th</td>\n",
       "      <td>GRL</td>\n",
       "      <td>-0.091518</td>\n",
       "      <td>2020-2040</td>\n",
       "      <td>tas</td>\n",
       "      <td>01</td>\n",
       "      <td></td>\n",
       "      <td>a2</td>\n",
       "      <td>10th</td>\n",
       "    </tr>\n",
       "    <tr>\n",
       "      <th>39</th>\n",
       "      <td>2020-2040_tas_01__a2_10th</td>\n",
       "      <td>CIV</td>\n",
       "      <td>-0.080205</td>\n",
       "      <td>2020-2040</td>\n",
       "      <td>tas</td>\n",
       "      <td>01</td>\n",
       "      <td></td>\n",
       "      <td>a2</td>\n",
       "      <td>10th</td>\n",
       "    </tr>\n",
       "    <tr>\n",
       "      <th>225</th>\n",
       "      <td>2020-2040_tas_01__a2_10th</td>\n",
       "      <td>VNM</td>\n",
       "      <td>-0.072714</td>\n",
       "      <td>2020-2040</td>\n",
       "      <td>tas</td>\n",
       "      <td>01</td>\n",
       "      <td></td>\n",
       "      <td>a2</td>\n",
       "      <td>10th</td>\n",
       "    </tr>\n",
       "    <tr>\n",
       "      <th>75</th>\n",
       "      <td>2020-2040_tas_01__a2_10th</td>\n",
       "      <td>GHA</td>\n",
       "      <td>-0.065681</td>\n",
       "      <td>2020-2040</td>\n",
       "      <td>tas</td>\n",
       "      <td>01</td>\n",
       "      <td></td>\n",
       "      <td>a2</td>\n",
       "      <td>10th</td>\n",
       "    </tr>\n",
       "  </tbody>\n",
       "</table>\n",
       "</div>"
      ],
      "text/plain": [
       "                    Timeperiod Country  Change_c Date_range Model Month Blank  \\\n",
       "115  2020-2040_tas_01__a2_10th     LAO -0.171904  2020-2040   tas    01         \n",
       "84   2020-2040_tas_01__a2_10th     GRL -0.091518  2020-2040   tas    01         \n",
       "39   2020-2040_tas_01__a2_10th     CIV -0.080205  2020-2040   tas    01         \n",
       "225  2020-2040_tas_01__a2_10th     VNM -0.072714  2020-2040   tas    01         \n",
       "75   2020-2040_tas_01__a2_10th     GHA -0.065681  2020-2040   tas    01         \n",
       "\n",
       "    Type Pctile  \n",
       "115   a2   10th  \n",
       "84    a2   10th  \n",
       "39    a2   10th  \n",
       "225   a2   10th  \n",
       "75    a2   10th  "
      ]
     },
     "execution_count": 77,
     "metadata": {},
     "output_type": "execute_result"
    }
   ],
   "source": [
    "climate_grp.head(5)"
   ]
  },
  {
   "cell_type": "markdown",
   "metadata": {},
   "source": [
    "Now, we have all of the important factors split into separate columns in our pandas dataframe. We can continue to group our data accordingly to first group by country, date range, percentile and scenario -- we'll be taking the mean temperature in degrees C across the twelve months for each time period and rolling that up for each country."
   ]
  },
  {
   "cell_type": "code",
   "execution_count": 78,
   "metadata": {},
   "outputs": [],
   "source": [
    "climate_grp = climate_grp.groupby(['Country', 'Date_range', 'Pctile', 'Type']).mean().reset_index()"
   ]
  },
  {
   "cell_type": "code",
   "execution_count": 83,
   "metadata": {},
   "outputs": [
    {
     "data": {
      "text/html": [
       "<div>\n",
       "<style scoped>\n",
       "    .dataframe tbody tr th:only-of-type {\n",
       "        vertical-align: middle;\n",
       "    }\n",
       "\n",
       "    .dataframe tbody tr th {\n",
       "        vertical-align: top;\n",
       "    }\n",
       "\n",
       "    .dataframe thead th {\n",
       "        text-align: right;\n",
       "    }\n",
       "</style>\n",
       "<table border=\"1\" class=\"dataframe\">\n",
       "  <thead>\n",
       "    <tr style=\"text-align: right;\">\n",
       "      <th></th>\n",
       "      <th>Country</th>\n",
       "      <th>Date_range</th>\n",
       "      <th>Pctile</th>\n",
       "      <th>Type</th>\n",
       "      <th>Change_c</th>\n",
       "    </tr>\n",
       "  </thead>\n",
       "  <tbody>\n",
       "    <tr>\n",
       "      <th>0</th>\n",
       "      <td>ABW</td>\n",
       "      <td>2020-2040</td>\n",
       "      <td>10th</td>\n",
       "      <td>a2</td>\n",
       "      <td>0.668032</td>\n",
       "    </tr>\n",
       "    <tr>\n",
       "      <th>1</th>\n",
       "      <td>ABW</td>\n",
       "      <td>2020-2040</td>\n",
       "      <td>10th</td>\n",
       "      <td>b1</td>\n",
       "      <td>0.569697</td>\n",
       "    </tr>\n",
       "    <tr>\n",
       "      <th>2</th>\n",
       "      <td>ABW</td>\n",
       "      <td>2020-2040</td>\n",
       "      <td>90th</td>\n",
       "      <td>a2</td>\n",
       "      <td>1.181766</td>\n",
       "    </tr>\n",
       "    <tr>\n",
       "      <th>3</th>\n",
       "      <td>ABW</td>\n",
       "      <td>2020-2040</td>\n",
       "      <td>90th</td>\n",
       "      <td>b1</td>\n",
       "      <td>1.184365</td>\n",
       "    </tr>\n",
       "    <tr>\n",
       "      <th>4</th>\n",
       "      <td>ABW</td>\n",
       "      <td>2020-2040</td>\n",
       "      <td>median</td>\n",
       "      <td>a2</td>\n",
       "      <td>0.972389</td>\n",
       "    </tr>\n",
       "    <tr>\n",
       "      <th>5</th>\n",
       "      <td>ABW</td>\n",
       "      <td>2020-2040</td>\n",
       "      <td>median</td>\n",
       "      <td>b1</td>\n",
       "      <td>0.960821</td>\n",
       "    </tr>\n",
       "    <tr>\n",
       "      <th>6</th>\n",
       "      <td>ABW</td>\n",
       "      <td>2040-2060</td>\n",
       "      <td>10th</td>\n",
       "      <td>a2</td>\n",
       "      <td>1.061561</td>\n",
       "    </tr>\n",
       "    <tr>\n",
       "      <th>7</th>\n",
       "      <td>ABW</td>\n",
       "      <td>2040-2060</td>\n",
       "      <td>10th</td>\n",
       "      <td>b1</td>\n",
       "      <td>0.853551</td>\n",
       "    </tr>\n",
       "    <tr>\n",
       "      <th>8</th>\n",
       "      <td>ABW</td>\n",
       "      <td>2040-2060</td>\n",
       "      <td>90th</td>\n",
       "      <td>a2</td>\n",
       "      <td>1.828642</td>\n",
       "    </tr>\n",
       "    <tr>\n",
       "      <th>9</th>\n",
       "      <td>ABW</td>\n",
       "      <td>2040-2060</td>\n",
       "      <td>90th</td>\n",
       "      <td>b1</td>\n",
       "      <td>1.486765</td>\n",
       "    </tr>\n",
       "    <tr>\n",
       "      <th>10</th>\n",
       "      <td>ABW</td>\n",
       "      <td>2040-2060</td>\n",
       "      <td>median</td>\n",
       "      <td>a2</td>\n",
       "      <td>1.470034</td>\n",
       "    </tr>\n",
       "    <tr>\n",
       "      <th>11</th>\n",
       "      <td>ABW</td>\n",
       "      <td>2040-2060</td>\n",
       "      <td>median</td>\n",
       "      <td>b1</td>\n",
       "      <td>1.486765</td>\n",
       "    </tr>\n",
       "    <tr>\n",
       "      <th>12</th>\n",
       "      <td>ABW</td>\n",
       "      <td>2060-2080</td>\n",
       "      <td>10th</td>\n",
       "      <td>a2</td>\n",
       "      <td>1.644924</td>\n",
       "    </tr>\n",
       "    <tr>\n",
       "      <th>13</th>\n",
       "      <td>ABW</td>\n",
       "      <td>2060-2080</td>\n",
       "      <td>10th</td>\n",
       "      <td>b1</td>\n",
       "      <td>1.166101</td>\n",
       "    </tr>\n",
       "    <tr>\n",
       "      <th>14</th>\n",
       "      <td>ABW</td>\n",
       "      <td>2060-2080</td>\n",
       "      <td>90th</td>\n",
       "      <td>a2</td>\n",
       "      <td>2.609869</td>\n",
       "    </tr>\n",
       "    <tr>\n",
       "      <th>15</th>\n",
       "      <td>ABW</td>\n",
       "      <td>2060-2080</td>\n",
       "      <td>90th</td>\n",
       "      <td>b1</td>\n",
       "      <td>1.886169</td>\n",
       "    </tr>\n",
       "    <tr>\n",
       "      <th>16</th>\n",
       "      <td>ABW</td>\n",
       "      <td>2060-2080</td>\n",
       "      <td>median</td>\n",
       "      <td>a2</td>\n",
       "      <td>2.260310</td>\n",
       "    </tr>\n",
       "    <tr>\n",
       "      <th>17</th>\n",
       "      <td>ABW</td>\n",
       "      <td>2060-2080</td>\n",
       "      <td>median</td>\n",
       "      <td>b1</td>\n",
       "      <td>1.647799</td>\n",
       "    </tr>\n",
       "    <tr>\n",
       "      <th>18</th>\n",
       "      <td>ABW</td>\n",
       "      <td>2080-2100</td>\n",
       "      <td>10th</td>\n",
       "      <td>a2</td>\n",
       "      <td>2.388706</td>\n",
       "    </tr>\n",
       "    <tr>\n",
       "      <th>19</th>\n",
       "      <td>ABW</td>\n",
       "      <td>2080-2100</td>\n",
       "      <td>10th</td>\n",
       "      <td>b1</td>\n",
       "      <td>1.319506</td>\n",
       "    </tr>\n",
       "    <tr>\n",
       "      <th>20</th>\n",
       "      <td>ABW</td>\n",
       "      <td>2080-2100</td>\n",
       "      <td>90th</td>\n",
       "      <td>a2</td>\n",
       "      <td>3.612297</td>\n",
       "    </tr>\n",
       "    <tr>\n",
       "      <th>21</th>\n",
       "      <td>ABW</td>\n",
       "      <td>2080-2100</td>\n",
       "      <td>90th</td>\n",
       "      <td>b1</td>\n",
       "      <td>2.224231</td>\n",
       "    </tr>\n",
       "    <tr>\n",
       "      <th>22</th>\n",
       "      <td>ABW</td>\n",
       "      <td>2080-2100</td>\n",
       "      <td>median</td>\n",
       "      <td>a2</td>\n",
       "      <td>3.060623</td>\n",
       "    </tr>\n",
       "    <tr>\n",
       "      <th>23</th>\n",
       "      <td>ABW</td>\n",
       "      <td>2080-2100</td>\n",
       "      <td>median</td>\n",
       "      <td>b1</td>\n",
       "      <td>1.862528</td>\n",
       "    </tr>\n",
       "  </tbody>\n",
       "</table>\n",
       "</div>"
      ],
      "text/plain": [
       "   Country Date_range  Pctile Type  Change_c\n",
       "0      ABW  2020-2040    10th   a2  0.668032\n",
       "1      ABW  2020-2040    10th   b1  0.569697\n",
       "2      ABW  2020-2040    90th   a2  1.181766\n",
       "3      ABW  2020-2040    90th   b1  1.184365\n",
       "4      ABW  2020-2040  median   a2  0.972389\n",
       "5      ABW  2020-2040  median   b1  0.960821\n",
       "6      ABW  2040-2060    10th   a2  1.061561\n",
       "7      ABW  2040-2060    10th   b1  0.853551\n",
       "8      ABW  2040-2060    90th   a2  1.828642\n",
       "9      ABW  2040-2060    90th   b1  1.486765\n",
       "10     ABW  2040-2060  median   a2  1.470034\n",
       "11     ABW  2040-2060  median   b1  1.486765\n",
       "12     ABW  2060-2080    10th   a2  1.644924\n",
       "13     ABW  2060-2080    10th   b1  1.166101\n",
       "14     ABW  2060-2080    90th   a2  2.609869\n",
       "15     ABW  2060-2080    90th   b1  1.886169\n",
       "16     ABW  2060-2080  median   a2  2.260310\n",
       "17     ABW  2060-2080  median   b1  1.647799\n",
       "18     ABW  2080-2100    10th   a2  2.388706\n",
       "19     ABW  2080-2100    10th   b1  1.319506\n",
       "20     ABW  2080-2100    90th   a2  3.612297\n",
       "21     ABW  2080-2100    90th   b1  2.224231\n",
       "22     ABW  2080-2100  median   a2  3.060623\n",
       "23     ABW  2080-2100  median   b1  1.862528"
      ]
     },
     "execution_count": 83,
     "metadata": {},
     "output_type": "execute_result"
    }
   ],
   "source": [
    "climate_grp.head(24)"
   ]
  },
  {
   "cell_type": "markdown",
   "metadata": {},
   "source": [
    "Our data manipulation yields the above for every country in our dataset. The example shown is for the country of Aruba (ABW), where we can see mean temperature projections for each time period split out by the 10th, 90th and median outputs of the model, and also split out between our two scenarios (a2 and b1).\n",
    "\n",
    "Next, we'll convert the temperature projections from degrees Celsius to degrees Fahrenheit, to make our visualizations more digestable for folks in the US."
   ]
  },
  {
   "cell_type": "code",
   "execution_count": 84,
   "metadata": {},
   "outputs": [],
   "source": [
    "climate_grp['Change_f'] = climate_grp['Change_c'] * 1.8"
   ]
  },
  {
   "cell_type": "markdown",
   "metadata": {},
   "source": [
    "After this, I separated the projections into four different dataframes:\n",
    "- `first20`: Date range from 2020 - 2040\n",
    "- `second20`: Date range from 2040 - 2060\n",
    "- `third20`: Date range from 2060 - 2080\n",
    "- `fourth20`: Date range from 2080 - 2100"
   ]
  },
  {
   "cell_type": "code",
   "execution_count": 8,
   "metadata": {},
   "outputs": [],
   "source": [
    "first20 = climate_grp[climate_grp['Date_range'] == '2020-2040']\n",
    "second20 = climate_grp[climate_grp['Date_range'] == '2040-2060']\n",
    "third20 = climate_grp[climate_grp['Date_range'] == '2060-2080']\n",
    "fourth20 = climate_grp[climate_grp['Date_range'] == '2080-2100']"
   ]
  },
  {
   "cell_type": "markdown",
   "metadata": {},
   "source": [
    "#### Split data based on models and projected percentiles"
   ]
  },
  {
   "cell_type": "markdown",
   "metadata": {},
   "source": [
    "Now, with our data split out into separate dataframes per time period, the final step will be to split the four dataframes out into eight dataframes to accommodate the projections for the two different scenarios. Below, I used the `loc` method to filter the projections accordingly and saved them to separate dataframes:"
   ]
  },
  {
   "cell_type": "code",
   "execution_count": null,
   "metadata": {},
   "outputs": [],
   "source": [
    "first20_med_a2 = first20.loc[(first20['Pctile'] == 'median') & (first20['Type'] == 'a2')].sort_values('Change_f')\n",
    "first20_med_b1 = first20.loc[(first20['Pctile'] == 'median') & (first20['Type'] == 'b1')].sort_values('Change_f')\n",
    "second20_med_a2 = second20.loc[(second20['Pctile'] == 'median') & (second20['Type'] == 'a2')].sort_values('Change_f')\n",
    "second20_med_b1 = second20.loc[(second20['Pctile'] == 'median') & (second20['Type'] == 'b1')].sort_values('Change_f')\n",
    "third20_med_a2 = third20.loc[(third20['Pctile'] == 'median') & (third20['Type'] == 'a2')].sort_values('Change_f')\n",
    "third20_med_b1 = third20.loc[(third20['Pctile'] == 'median') & (third20['Type'] == 'b1')].sort_values('Change_f')\n",
    "fourth20_med_a2 = fourth20.loc[(fourth20['Pctile'] == 'median') & (fourth20['Type'] == 'a2')].sort_values('Change_f')\n",
    "fourth20_med_b1 = fourth20.loc[(fourth20['Pctile'] == 'median') & (fourth20['Type'] == 'b1')].sort_values('Change_f')"
   ]
  },
  {
   "cell_type": "markdown",
   "metadata": {},
   "source": [
    "For my final projection visualizations, I thought it would be best to take the **median** projections for each scenario and time period. However, below is the code to isolate out the 10th and 90th percentile projections for each of these scenarios and time periods if it's helpful for future work."
   ]
  },
  {
   "cell_type": "code",
   "execution_count": 85,
   "metadata": {},
   "outputs": [],
   "source": [
    "## separating the remaining scenarios and projections into additional dataframes\n",
    "\n",
    "# first20_ten_a2 = first20.loc[(first20['Pctile'] == '10th') & (first20['Type'] == 'a2')].sort_values('Change_f')\n",
    "# first20_ninety_a2 = first20.loc[(first20['Pctile'] == '90th') & (first20['Type'] == 'a2')].sort_values('Change_f')\n",
    "# first20_ten_b1 = first20.loc[(first20['Pctile'] == '10th') & (first20['Type'] == 'b1')].sort_values('Change_f')\n",
    "# first20_ninety_b1 = first20.loc[(first20['Pctile'] == '90th') & (first20['Type'] == 'b1')].sort_values('Change_f')\n",
    "# second20_ten_a2 = second20.loc[(second20['Pctile'] == '10th') & (second20['Type'] == 'a2')].sort_values('Change_f')\n",
    "# second20_ninety_a2 = second20.loc[(second20['Pctile'] == '90th') & (second20['Type'] == 'a2')].sort_values('Change_f')\n",
    "# second20_ten_b1 = second20.loc[(second20['Pctile'] == '10th') & (second20['Type'] == 'b1')].sort_values('Change_f')\n",
    "# second20_ninety_b1 = second20.loc[(second20['Pctile'] == '90th') & (second20['Type'] == 'b1')].sort_values('Change_f')\n",
    "# third20_ten_a2 = third20.loc[(third20['Pctile'] == '10th') & (third20['Type'] == 'a2')].sort_values('Change_f')\n",
    "# third20_ninety_a2 = third20.loc[(third20['Pctile'] == '90th') & (third20['Type'] == 'a2')].sort_values('Change_f')\n",
    "# third20_ten_b1 = third20.loc[(third20['Pctile'] == '10th') & (third20['Type'] == 'b1')].sort_values('Change_f')\n",
    "# third20_ninety_b1 = third20.loc[(third20['Pctile'] == '90th') & (third20['Type'] == 'b1')].sort_values('Change_f')\n",
    "# fourth20_ten_a2 = fourth20.loc[(fourth20['Pctile'] == '10th') & (fourth20['Type'] == 'a2')].sort_values('Change_f')\n",
    "# fourth20_ninety_a2 = fourth20.loc[(fourth20['Pctile'] == '90th') & (fourth20['Type'] == 'a2')].sort_values('Change_f')\n",
    "# fourth20_ten_b1 = fourth20.loc[(fourth20['Pctile'] == '10th') & (fourth20['Type'] == 'b1')].sort_values('Change_f')\n",
    "# fourth20_ninety_b1 = fourth20.loc[(fourth20['Pctile'] == '90th') & (fourth20['Type'] == 'b1')].sort_values('Change_f')"
   ]
  },
  {
   "cell_type": "markdown",
   "metadata": {},
   "source": [
    "### Merging the projection data into the existing geojson file and creating separate geojsons"
   ]
  },
  {
   "cell_type": "markdown",
   "metadata": {},
   "source": [
    "Finally, with our projection data tidy'd correctly, we can now start to generate our final geojson files that we'll need for our d3.js animations and visualizations. In order to merge the data correctly, we'll have to match the `id` column with the `country` column between the geojson property and the dataframe, and then create additional properties to append to each country object. We can then splice the json files into eight separate jsons similar to the process we did for our pandas dataframes. I created the `createjsons()` function below to account for this process."
   ]
  },
  {
   "cell_type": "code",
   "execution_count": 17,
   "metadata": {},
   "outputs": [],
   "source": [
    "dataframes = [first20_med_a2, first20_med_b1, second20_med_a2, second20_med_b1, third20_med_a2, third20_med_b1, fourth20_med_a2, fourth20_med_b1]\n",
    "json_files = ['first20_med_a2.json', 'first20_med_b1.json', 'second20_med_a2.json', 'second20_med_b1.json', 'third20_med_a2.json', 'third20_med_b1.json', 'fourth20_med_a2.json', 'fourth20_med_b1.json']\n",
    "\n",
    "\n",
    "def createjsons():\n",
    "    for idx, d in enumerate(dataframes):\n",
    "        for i in features:\n",
    "            for index, row in d.iterrows():\n",
    "                if(row['Country'] == i['id']):\n",
    "                    i['Change_c'] = row['Change_c']\n",
    "                    i['Change_f'] = row['Change_f']\n",
    "                    i['Date_range'] = row['Date_range']\n",
    "                    i['Percentile'] = row['Pctile']\n",
    "                    i['Scenario'] = row['Type']\n",
    "                else:\n",
    "                    pass\n",
    "            with open(json_files[idx], 'w') as outfile:\n",
    "                json.dump(gj, outfile)\n",
    "    "
   ]
  },
  {
   "cell_type": "code",
   "execution_count": 20,
   "metadata": {},
   "outputs": [],
   "source": [
    "createjsons()"
   ]
  },
  {
   "cell_type": "markdown",
   "metadata": {},
   "source": [
    "With the jsons created, we can now upload these into the Angular application and read them into d3.js to build out our visualizations!"
   ]
  }
 ],
 "metadata": {
  "kernelspec": {
   "display_name": "Python 3",
   "language": "python",
   "name": "python3"
  },
  "language_info": {
   "codemirror_mode": {
    "name": "ipython",
    "version": 3
   },
   "file_extension": ".py",
   "mimetype": "text/x-python",
   "name": "python",
   "nbconvert_exporter": "python",
   "pygments_lexer": "ipython3",
   "version": "3.7.8"
  }
 },
 "nbformat": 4,
 "nbformat_minor": 4
}
